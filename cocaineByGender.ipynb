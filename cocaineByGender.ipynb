{
 "cells": [
  {
   "cell_type": "code",
   "execution_count": 1,
   "metadata": {},
   "outputs": [],
   "source": [
    "import pandas as pd \n",
    "import numpy as np\n",
    "import matplotlib.pyplot as plt  \n",
    "import seaborn as sns"
   ]
  },
  {
   "cell_type": "code",
   "execution_count": 2,
   "metadata": {},
   "outputs": [],
   "source": [
    "df = pd.read_csv(\"./drug_consumption.text\",  sep=',')\n",
    "df.columns= [\"ID\", \"Age\", \"Gender\", \"Education\", \"Country\", \"Ethnicity\", \"Nscore\", \"Escore\", \"Oscore\", \"Ascore\", \"Cscore\", \"Impulsive\", \"SS\", \"Alcohol\", \"Amphet\", \"Amyl\", \"Benzos\", \"Caff\", \"Cannabis\", \"Choc\", \"Coke\", \"Crack\", \"Ecstasy\", \"Heroin\", \"Ketamine\", \"Legalh\", \"LSD\", \"Meth\", \"Mushrooms\", \"Nicotine\", \"Semer\", \"VSA\"]"
   ]
  },
  {
   "cell_type": "code",
   "execution_count": 3,
   "metadata": {},
   "outputs": [],
   "source": [
    "coke= df[\"Coke\"].to_numpy()\n",
    "gender= df[\"Gender\"].to_numpy()"
   ]
  },
  {
   "cell_type": "code",
   "execution_count": 4,
   "metadata": {},
   "outputs": [],
   "source": [
    "cokeGender= np.column_stack((coke, gender))"
   ]
  },
  {
   "cell_type": "code",
   "execution_count": 5,
   "metadata": {},
   "outputs": [
    {
     "name": "stdout",
     "output_type": "stream",
     "text": [
      "[False  True False ... False  True False]\n",
      "(1884,)\n"
     ]
    }
   ],
   "source": [
    "# People that do not take cocaine\n",
    "noCoke= cokeGender[:, 0]=='CL0'\n",
    "print(noCoke)\n",
    "print(noCoke.shape)"
   ]
  },
  {
   "cell_type": "code",
   "execution_count": 6,
   "metadata": {},
   "outputs": [
    {
     "name": "stdout",
     "output_type": "stream",
     "text": [
      "[ True  True False ... False False  True]\n"
     ]
    }
   ],
   "source": [
    "# People that are male\n",
    "isMale= cokeGender[:, 1]<0\n",
    "print(isMale)"
   ]
  },
  {
   "cell_type": "code",
   "execution_count": 7,
   "metadata": {},
   "outputs": [
    {
     "name": "stdout",
     "output_type": "stream",
     "text": [
      "[False False  True ...  True  True False]\n"
     ]
    }
   ],
   "source": [
    "# People that are female\n",
    "isFemale= cokeGender[:, 1]>0\n",
    "print(isFemale)"
   ]
  },
  {
   "cell_type": "code",
   "execution_count": 8,
   "metadata": {},
   "outputs": [],
   "source": [
    "frequency= ['CL6', 'CL5', 'CL4', 'CL3', 'CL2', 'CL1', 'CL0']\n",
    "cokeFreq= np.zeros((len(frequency), 1884), dtype=bool)"
   ]
  },
  {
   "cell_type": "code",
   "execution_count": 9,
   "metadata": {},
   "outputs": [
    {
     "name": "stdout",
     "output_type": "stream",
     "text": [
      "[ 14.  27.  62. 168. 146.  84. 442.]\n",
      "[  5.  14.  37.  90. 124.  76. 595.]\n"
     ]
    }
   ],
   "source": [
    "Male_coke= np.zeros(len(frequency))\n",
    "Female_coke= np.zeros(len(frequency))\n",
    "for i in range(len(frequency)):\n",
    "    cokeFreq[i, :] = cokeGender[:, 0]== frequency[i]\n",
    "    Male_coke[i]= np.sum(cokeFreq[i, :] & isMale)\n",
    "    Female_coke[i]= np.sum(cokeFreq[i, :] & isFemale)\n",
    "print(Male_coke)\n",
    "print(Female_coke)"
   ]
  },
  {
   "cell_type": "code",
   "execution_count": 13,
   "metadata": {},
   "outputs": [
    {
     "name": "stdout",
     "output_type": "stream",
     "text": [
      "[[ 14.  27.  62. 168. 146.  84. 442.]\n",
      " [  5.  14.  37.  90. 124.  76. 595.]]\n",
      "(2, 7)\n",
      "[[14.]\n",
      " [ 5.]]\n",
      "[14.  5.]\n"
     ]
    },
    {
     "data": {
      "image/png": "[encoded data removed]",
      "text/plain": [
       "<Figure size 432x288 with 1 Axes>"
      ]
     },
     "metadata": {
      "needs_background": "light"
     },
     "output_type": "display_data"
    }
   ],
   "source": [
    "# plot cocaine use by gender\n",
    "fig = plt.figure()\n",
    "N= 2\n",
    "ind = np.arange(N)\n",
    "\n",
    "#bar width\n",
    "width = 0.1\n",
    "\n",
    "All_coke= np.vstack((Male_coke, Female_coke))\n",
    "print(All_coke)\n",
    "print(All_coke.shape)\n",
    "\n",
    "print(All_coke[:, :1])\n",
    "print(np.sum(All_coke[:, :1],  axis=1))\n",
    "\n",
    "ax = fig.add_axes([0,0,1,1])\n",
    "ax.bar(ind, All_coke[:, 0], bottom=0, color  = 'r')\n",
    "ax.bar(ind, All_coke[:, 1], bottom=np.sum(All_coke[:, :1], axis=1), color  = 'orange')\n",
    "ax.bar(ind, All_coke[:, 2], bottom=np.sum(All_coke[:, :2], axis=1), color  = 'violet')\n",
    "ax.bar(ind, All_coke[:, 3], bottom=np.sum(All_coke[:, :3], axis=1), color  = 'lightgreen')\n",
    "ax.bar(ind, All_coke[:, 4], bottom=np.sum(All_coke[:, :4], axis=1), color  = 'lightblue')\n",
    "ax.bar(ind, All_coke[:, 5], bottom=np.sum(All_coke[:, :5], axis=1), color  = 'b')\n",
    "# ax.bar(ind, All_coke[:, 6], bottom=np.sum(All_coke[:, :6], axis=1), color  = 'white')\n",
    "ax.set_xlabel('Gender')\n",
    "ax.set_ylabel('Number of people')\n",
    "ax.set_title('Cocaine usage frequency by gender')\n",
    "ax.legend(labels=['Used in Last Day', 'Used in Last Week', 'Used in Last Month', 'Used in Last Year', 'Used in Last Decade', 'Used over a Decade Ago', 'Never Used'])\n",
    "plt.show()"
   ]
  }
 ],
 "metadata": {
  "kernelspec": {
   "display_name": "Python 3",
   "language": "python",
   "name": "python3"
  },
  "language_info": {
   "codemirror_mode": {
    "name": "ipython",
    "version": 3
   },
   "file_extension": ".py",
   "mimetype": "text/x-python",
   "name": "python",
   "nbconvert_exporter": "python",
   "pygments_lexer": "ipython3",
   "version": "3.7.4"
  }
 },
 "nbformat": 4,
 "nbformat_minor": 2
}
