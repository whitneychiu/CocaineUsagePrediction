{
 "cells": [
  {
   "cell_type": "code",
   "execution_count": 2,
   "metadata": {},
   "outputs": [],
   "source": [
    "import pandas as pd \n",
    "import numpy as np\n",
    "import matplotlib.pyplot as plt  \n",
    "import seaborn as sns"
   ]
  },
  {
   "cell_type": "code",
   "execution_count": 3,
   "metadata": {},
   "outputs": [
    {
     "name": "stdout",
     "output_type": "stream",
     "text": [
      "[['CL3' -0.07854]\n",
      " ['CL0' 0.49788000000000004]\n",
      " ['CL2' -0.9519700000000001]\n",
      " ...\n",
      " ['CL4' -0.07854]\n",
      " ['CL0' -0.9519700000000001]\n",
      " ['CL3' -0.9519700000000001]]\n"
     ]
    }
   ],
   "source": [
    "df = pd.read_csv(\"./drug_consumption.txt\",  sep=',')\n",
    "df.columns= [\"ID\", \"Age\", \"Gender\", \"Education\", \"Country\", \"Ethnicity\", \"Nscore\", \"Escore\", \"Oscore\", \"Ascore\", \"Cscore\", \"Impulsive\", \"SS\", \"Alcohol\", \"Amphet\", \"Amyl\", \"Benzos\", \"Caff\", \"Cannabis\", \"Choc\", \"Coke\", \"Crack\", \"Ecstasy\", \"Heroin\", \"Ketamine\", \"Legalh\", \"LSD\", \"Meth\", \"Mushrooms\", \"Nicotine\", \"Semer\", \"VSA\"]\n",
    "\n",
    "coke= df[\"Coke\"].to_numpy()\n",
    "age= df[\"Age\"].to_numpy()\n",
    "\n",
    "cokeAge= np.column_stack((coke, age))\n",
    "print(cokeAge)"
   ]
  },
  {
   "cell_type": "code",
   "execution_count": 4,
   "metadata": {},
   "outputs": [],
   "source": [
    "age_cat= [-0.95197, -0.07854, 0.49788, 1.09449, 1.82213, 2.59171]\n",
    "frequency= ['CL6', 'CL5', 'CL4', 'CL3', 'CL2', 'CL1', 'CL0']\n",
    "age_cat_coke= np.zeros((len(frequency), len(age_cat)))"
   ]
  },
  {
   "cell_type": "code",
   "execution_count": 5,
   "metadata": {},
   "outputs": [
    {
     "name": "stdout",
     "output_type": "stream",
     "text": [
      "[[ 11.   5.   2.   0.   1.   0.]\n",
      " [ 26.  12.   2.   1.   0.   0.]\n",
      " [ 54.  29.  11.   4.   1.   0.]\n",
      " [135.  76.  30.  15.   2.   0.]\n",
      " [ 65. 102.  64.  29.  10.   0.]\n",
      " [  3.  20.  53.  61.  21.   2.]\n",
      " [349. 237. 193. 184.  58.  16.]]\n",
      "[11.  5.  2.  0.  1.  0.]\n"
     ]
    }
   ],
   "source": [
    "for i in range(len(frequency)):\n",
    "    cokeFreq= cokeAge[:, 0]==frequency[i]\n",
    "    for j in range(len(age_cat)):\n",
    "        age_cat_clean= np.abs(cokeAge[:, 1] - age_cat[j]) < 0.1\n",
    "        age_cat_coke[i, j]= np.sum(age_cat_clean & cokeFreq)\n",
    "print(age_cat_coke)\n",
    "\n",
    "print(np.sum(age_cat_coke[:1, :], axis= 0))"
   ]
  },
  {
   "cell_type": "code",
   "execution_count": 6,
   "metadata": {},
   "outputs": [
    {
     "data": {
      "image/png": "[encoded data removed]",
      "text/plain": [
       "<Figure size 432x288 with 1 Axes>"
      ]
     },
     "metadata": {
      "needs_background": "light"
     },
     "output_type": "display_data"
    }
   ],
   "source": [
    "fig = plt.figure()\n",
    "N= len(age_cat)\n",
    "ind = np.arange(N)\n",
    "\n",
    "width = 0.1\n",
    "\n",
    "ax = fig.add_axes([0,0,1,1])\n",
    "ax.bar(ind, age_cat_coke[0, :], bottom=0, color  = 'r')\n",
    "ax.bar(ind, age_cat_coke[1, :], bottom=np.sum(age_cat_coke[:1, :], axis=0), color  = 'orange')\n",
    "ax.bar(ind, age_cat_coke[2, :], bottom=np.sum(age_cat_coke[:2, :], axis=0), color  = 'violet')\n",
    "ax.bar(ind, age_cat_coke[3, :], bottom=np.sum(age_cat_coke[:3, :], axis=0), color  = 'lightgreen')\n",
    "ax.bar(ind, age_cat_coke[4, :], bottom=np.sum(age_cat_coke[:4, :], axis=0), color  = 'lightblue')\n",
    "ax.bar(ind, age_cat_coke[5, :], bottom=np.sum(age_cat_coke[:5, :], axis=0), color  = 'blue')\n",
    "# ax.bar(ind, age_cat_coke[6, :], bottom=np.sum(age_cat_coke[:6, :], axis=0), color  = 'white')\n",
    "ax.set_xlabel('Age group')\n",
    "ax.set_ylabel('Number of people')\n",
    "ax.set_title('Cocaine usage frequency by age group')\n",
    "ax.legend(labels=['Used in Last Day', 'Used in Last Week', 'Used in Last Month', 'Used in Last Year', 'Used in Last Decade', 'Used over a Decade Ago', 'Never Used'])\n",
    "plt.show()"
   ]
  },
  {
   "cell_type": "code",
   "execution_count": 7,
   "metadata": {},
   "outputs": [
    {
     "name": "stdout",
     "output_type": "stream",
     "text": [
      "[ 3. 20. 53. 61. 21.  2.]\n",
      "[291. 224. 109.  49.  14.   0.]\n"
     ]
    }
   ],
   "source": [
    "print(age_cat_coke[5, :])\n",
    "print(np.sum(age_cat_coke[:5, :], axis=0))"
   ]
  },
  {
   "cell_type": "code",
   "execution_count": null,
   "metadata": {},
   "outputs": [],
   "source": []
  }
 ],
 "metadata": {
  "kernelspec": {
   "display_name": "Python 3",
   "language": "python",
   "name": "python3"
  },
  "language_info": {
   "codemirror_mode": {
    "name": "ipython",
    "version": 3
   },
   "file_extension": ".py",
   "mimetype": "text/x-python",
   "name": "python",
   "nbconvert_exporter": "python",
   "pygments_lexer": "ipython3",
   "version": "3.7.4"
  }
 },
 "nbformat": 4,
 "nbformat_minor": 2
}
