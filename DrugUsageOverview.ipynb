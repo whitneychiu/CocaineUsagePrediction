{
 "cells": [
  {
   "cell_type": "code",
   "execution_count": 1,
   "metadata": {},
   "outputs": [],
   "source": [
    "import pandas as pd \n",
    "import numpy as np\n",
    "import matplotlib.pyplot as plt  \n",
    "import seaborn as sns\n",
    "\n",
    "df = pd.read_csv(\"~/Dropbox/DrugConsumption/drug_consumption.text\",  sep=',')"
   ]
  },
  {
   "cell_type": "code",
   "execution_count": 2,
   "metadata": {},
   "outputs": [
    {
     "name": "stdout",
     "output_type": "stream",
     "text": [
      "(1884, 32)\n",
      "   1  0.49788  0.48246  -0.05921  0.96082  0.12600  0.31287  -0.57545  \\\n",
      "0  2 -0.07854 -0.48246   1.98437  0.96082 -0.31685 -0.67825   1.93886   \n",
      "1  3  0.49788 -0.48246  -0.05921  0.96082 -0.31685 -0.46725   0.80523   \n",
      "2  4 -0.95197  0.48246   1.16365  0.96082 -0.31685 -0.14882  -0.80615   \n",
      "3  5  0.49788  0.48246   1.98437  0.96082 -0.31685  0.73545  -1.63340   \n",
      "4  6  2.59171  0.48246  -1.22751  0.24923 -0.31685 -0.67825  -0.30033   \n",
      "\n",
      "   -0.58331  -0.91699  ...  CL0.4  CL0.5  CL0.6 CL0.7 CL0.8 CL0.9 CL0.10  \\\n",
      "0   1.43533   0.76096  ...    CL4    CL0    CL2   CL0   CL2   CL3    CL0   \n",
      "1  -0.84732  -1.62090  ...    CL0    CL0    CL0   CL0   CL0   CL0    CL1   \n",
      "2  -0.01928   0.59042  ...    CL0    CL0    CL2   CL0   CL0   CL0    CL0   \n",
      "3  -0.45174  -0.30172  ...    CL1    CL0    CL0   CL1   CL0   CL0    CL2   \n",
      "4  -1.55521   2.03972  ...    CL0    CL0    CL0   CL0   CL0   CL0    CL0   \n",
      "\n",
      "  CL2.2 CL0.11 CL0.12  \n",
      "0   CL4    CL0    CL0  \n",
      "1   CL0    CL0    CL0  \n",
      "2   CL2    CL0    CL0  \n",
      "3   CL2    CL0    CL0  \n",
      "4   CL6    CL0    CL0  \n",
      "\n",
      "[5 rows x 32 columns]\n"
     ]
    }
   ],
   "source": [
    "print(df.shape)\n",
    "print(df.head())"
   ]
  },
  {
   "cell_type": "code",
   "execution_count": 3,
   "metadata": {},
   "outputs": [],
   "source": [
    "# Name columns\n",
    "df.columns= [\"ID\", \"Age\", \"Gender\", \"Education\", \"Country\", \"Ethnicity\", \"Nscore\", \"Escore\", \"Oscore\", \"Ascore\", \"Cscore\", \"Impulsive\", \"SS\", \"Alcohol\", \"Amphet\", \"Amyl\", \"Benzos\", \"Caff\", \"Cannabis\", \"Choc\", \"Coke\", \"Crack\", \"Ecstasy\", \"Heroin\", \"Ketamine\", \"Legalh\", \"LSD\", \"Meth\", \"Mushrooms\", \"Nicotine\", \"Semer\", \"VSA\"]"
   ]
  },
  {
   "cell_type": "code",
   "execution_count": 4,
   "metadata": {},
   "outputs": [
    {
     "name": "stdout",
     "output_type": "stream",
     "text": [
      "[[5.050e+02 7.580e+02 2.870e+02 1.980e+02 6.800e+01 3.400e+01 3.400e+01]\n",
      " [1.020e+02 6.100e+01 7.500e+01 1.980e+02 2.420e+02 2.300e+02 9.760e+02]\n",
      " [3.000e+00 1.400e+01 2.400e+01 9.200e+01 2.370e+02 2.100e+02 1.304e+03]\n",
      " [9.500e+01 8.400e+01 1.200e+02 2.360e+02 2.330e+02 1.160e+02 1.000e+03]\n",
      " [1.384e+03 2.730e+02 1.060e+02 6.000e+01 2.400e+01 1.000e+01 2.700e+01]\n",
      " [4.630e+02 1.850e+02 1.400e+02 2.110e+02 2.660e+02 2.070e+02 4.120e+02]\n",
      " [8.070e+02 6.820e+02 2.960e+02 5.400e+01 1.000e+01 3.000e+00 3.200e+01]\n",
      " [1.900e+01 4.100e+01 9.900e+01 2.580e+02 2.700e+02 1.600e+02 1.037e+03]\n",
      " [2.000e+00 9.000e+00 9.000e+00 5.900e+01 1.120e+02 6.700e+01 1.626e+03]\n",
      " [2.100e+01 6.300e+01 1.560e+02 2.770e+02 2.340e+02 1.130e+02 1.020e+03]\n",
      " [1.300e+01 1.600e+01 2.400e+01 6.500e+01 9.400e+01 6.800e+01 1.604e+03]\n",
      " [4.000e+00 3.300e+01 4.200e+01 1.290e+02 1.420e+02 4.500e+01 1.489e+03]\n",
      " [6.700e+01 6.400e+01 1.100e+02 3.230e+02 1.980e+02 2.900e+01 1.093e+03]\n",
      " [1.300e+01 5.600e+01 9.700e+01 2.140e+02 1.770e+02 2.590e+02 1.068e+03]\n",
      " [7.300e+01 4.800e+01 5.000e+01 1.490e+02 9.700e+01 3.900e+01 1.428e+03]\n",
      " [4.000e+00 4.000e+01 1.150e+02 2.750e+02 2.600e+02 2.090e+02 9.810e+02]\n",
      " [6.100e+02 1.570e+02 1.080e+02 1.850e+02 2.030e+02 1.930e+02 4.280e+02]\n",
      " [0.000e+00 0.000e+00 1.000e+00 2.000e+00 3.000e+00 2.000e+00 1.876e+03]\n",
      " [7.000e+00 1.400e+01 1.300e+01 6.100e+01 1.350e+02 2.000e+02 1.454e+03]]\n",
      "[[ 505  758  287  198   68   34   34]\n",
      " [ 102   61   75  198  242  230  976]\n",
      " [   3   14   24   92  237  210 1304]\n",
      " [  95   84  120  236  233  116 1000]\n",
      " [1384  273  106   60   24   10   27]\n",
      " [ 463  185  140  211  266  207  412]\n",
      " [ 807  682  296   54   10    3   32]\n",
      " [  19   41   99  258  270  160 1037]\n",
      " [   2    9    9   59  112   67 1626]\n",
      " [  21   63  156  277  234  113 1020]\n",
      " [  13   16   24   65   94   68 1604]\n",
      " [   4   33   42  129  142   45 1489]\n",
      " [  67   64  110  323  198   29 1093]\n",
      " [  13   56   97  214  177  259 1068]\n",
      " [  73   48   50  149   97   39 1428]\n",
      " [   4   40  115  275  260  209  981]\n",
      " [ 610  157  108  185  203  193  428]\n",
      " [   0    0    1    2    3    2 1876]\n",
      " [   7   14   13   61  135  200 1454]]\n"
     ]
    }
   ],
   "source": [
    "# plot the usage of each drug\n",
    "count= np.empty([19,7])\n",
    "\n",
    "for i in range(13, 32):\n",
    "    count[i-13,0] = np.sum(df.iloc[:,i].values == 'CL6')\n",
    "    count[i-13,1] = np.sum(df.iloc[:,i].values == 'CL5')\n",
    "    count[i-13,2] = np.sum(df.iloc[:,i].values == 'CL4')\n",
    "    count[i-13,3] = np.sum(df.iloc[:,i].values == 'CL3')\n",
    "    count[i-13,4] = np.sum(df.iloc[:,i].values == 'CL2')\n",
    "    count[i-13,5] = np.sum(df.iloc[:,i].values == 'CL1')\n",
    "    count[i-13,6] = np.sum(df.iloc[:,i].values == 'CL0')\n",
    "\n",
    "print(count)\n",
    "\n",
    "count = count.astype(int)\n",
    "print(count)"
   ]
  },
  {
   "cell_type": "code",
   "execution_count": 10,
   "metadata": {},
   "outputs": [
    {
     "data": {
      "image/png": "[encoded data removed]",
      "text/plain": [
       "<Figure size 432x288 with 1 Axes>"
      ]
     },
     "metadata": {
      "needs_background": "light"
     },
     "output_type": "display_data"
    }
   ],
   "source": [
    "fig = plt.figure()\n",
    "N= 19\n",
    "ind = np.arange(N)\n",
    "\n",
    "# bar width\n",
    "width = 0.1\n",
    "\n",
    "ax = fig.add_axes([0,0,1,1])\n",
    "ax.bar(ind, count[:, 0], bottom=0, color  = 'r')\n",
    "ax.bar(ind, count[:, 1], bottom = np.sum(count[:,:1], axis= 1), color  = 'g')\n",
    "ax.bar(ind, count[:, 2], bottom = np.sum(count[:,:2], axis= 1), color  = 'b')\n",
    "ax.bar(ind, count[:, 3], bottom = np.sum(count[:,:3], axis= 1), color  = 'purple')\n",
    "ax.bar(ind, count[:, 4], bottom = np.sum(count[:,:4], axis= 1), color  = 'orange')\n",
    "ax.bar(ind, count[:, 5], bottom = np.sum(count[:,:5], axis= 1), color  = 'pink')\n",
    "ax.bar(ind, count[:, 6], bottom = np.sum(count[:,:6], axis= 1), color  = 'white')\n",
    "ax.set_xlabel('Type of drug')\n",
    "ax.set_ylabel('Number of people')\n",
    "ax.set_title('Drug usage frequency by type of drugs')\n",
    "plt.show()"
   ]
  },
  {
   "cell_type": "code",
   "execution_count": null,
   "metadata": {},
   "outputs": [],
   "source": []
  }
 ],
 "metadata": {
  "kernelspec": {
   "display_name": "Python 3",
   "language": "python",
   "name": "python3"
  },
  "language_info": {
   "codemirror_mode": {
    "name": "ipython",
    "version": 3
   },
   "file_extension": ".py",
   "mimetype": "text/x-python",
   "name": "python",
   "nbconvert_exporter": "python",
   "pygments_lexer": "ipython3",
   "version": "3.7.4"
  }
 },
 "nbformat": 4,
 "nbformat_minor": 2
}
